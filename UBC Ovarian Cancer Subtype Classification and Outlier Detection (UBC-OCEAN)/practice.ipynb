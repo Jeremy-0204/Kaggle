{
 "cells": [
  {
   "cell_type": "code",
   "execution_count": null,
   "metadata": {},
   "outputs": [],
   "source": [
    "import pandas as pd\n",
    "import numpy as np\n",
    "import random\n",
    "import glob\n",
    "import tempfile\n",
    "import cv2\n",
    "import matplotlib.pyplot as plt\n",
    "from PIL import Image\n",
    "from sklearn.preprocessing import LabelEncoder\n",
    "import torch\n",
    "from torch import nn, optim, Tensor\n",
    "from torch.optim.lr_scheduler import CosineAnnealingLR\n",
    "from torchinfo import summary\n",
    "import timm\n",
    "import torchvision\n",
    "from torchvision import transforms, datasets, models\n",
    "import torch.utils.data as Data\n",
    "from torch.utils.data import Dataset\n",
    "from torch.utils.data import DataLoader, random_split\n",
    "from matplotlib import pyplot as plt\n",
    "import numpy as np\n",
    "import warnings\n",
    "warnings.filterwarnings(\"ignore\")"
   ]
  },
  {
   "cell_type": "code",
   "execution_count": null,
   "metadata": {},
   "outputs": [],
   "source": [
    "train = pd.read_csv(r\"/kaggle/input/UBC-OCEAN/train.csv\")\n",
    "test = pd.read_csv(r\"/kaggle/input/UBC-OCEAN/test.csv\")\n",
    "train_tma = train[train[\"is_tma\"] == True]\n",
    "train_no_tma = train[train[\"is_tma\"] == False]"
   ]
  },
  {
   "cell_type": "code",
   "execution_count": null,
   "metadata": {},
   "outputs": [],
   "source": [
    "train_tma['img_id_ext'] = [str(i) + \" .png\" for i in train_tma['image_id']]\n",
    "train_no_tma['img_id_ext'] = [str(i) + \"_thumbnail.png\" for i in train_no_tma['image_id']]\n",
    "test['img_id_ext'] = [str(i) + \"_thumbnail.png\" for i in test['image_id']]"
   ]
  },
  {
   "cell_type": "code",
   "execution_count": null,
   "metadata": {},
   "outputs": [],
   "source": [
    "train_df = pd.concat([train_tma, train_no_tma])\n",
    "train_df.sort_index(ascending = True, inplace = True)\n",
    "train_df.head()"
   ]
  },
  {
   "cell_type": "code",
   "execution_count": null,
   "metadata": {},
   "outputs": [],
   "source": [
    "le = LabelEncoder()\n",
    "image_label = train_df['label']\n",
    "le.fit(image_label)\n",
    "train_df['label'] = le.transform(image_label)\n",
    "train_df.head()"
   ]
  }
 ],
 "metadata": {
  "language_info": {
   "name": "python"
  },
  "orig_nbformat": 4
 },
 "nbformat": 4,
 "nbformat_minor": 2
}
