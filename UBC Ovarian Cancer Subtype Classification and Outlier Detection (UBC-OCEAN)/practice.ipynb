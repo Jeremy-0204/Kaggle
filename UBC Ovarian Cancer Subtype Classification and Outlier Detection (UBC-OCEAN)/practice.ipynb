{
 "cells": [
  {
   "cell_type": "code",
   "execution_count": null,
   "metadata": {},
   "outputs": [],
   "source": [
    "import pandas as pd\n",
    "import numpy as np\n",
    "import random\n",
    "import glob\n",
    "import tempfile\n",
    "import cv2\n",
    "import matplotlib.pyplot as plt\n",
    "from PIL import Image\n",
    "from sklearn.preprocessing import LabelEncoder\n",
    "import torch\n",
    "from torch import nn, optim, Tensor\n",
    "from torch.optim.lr_scheduler import CosineAnnealingLR\n",
    "from torchinfo import summary\n",
    "import timm\n",
    "import torchvision\n",
    "from torchvision import transforms, datasets, models\n",
    "import torch.utils.data as Data\n",
    "from torch.utils.data import Dataset\n",
    "from torch.utils.data import DataLoader, random_split\n",
    "from matplotlib import pyplot as plt\n",
    "import numpy as np\n",
    "import warnings\n",
    "warnings.filterwarnings(\"ignore\")"
   ]
  },
  {
   "cell_type": "code",
   "execution_count": null,
   "metadata": {},
   "outputs": [],
   "source": [
    "train = pd.read_csv(r\"/kaggle/input/UBC-OCEAN/train.csv\")\n",
    "test = pd.read_csv(r\"/kaggle/input/UBC-OCEAN/test.csv\")\n",
    "train_tma = train[train[\"is_tma\"] == True]\n",
    "train_no_tma = train[train[\"is_tma\"] == False]"
   ]
  },
  {
   "cell_type": "code",
   "execution_count": null,
   "metadata": {},
   "outputs": [],
   "source": [
    "train_tma['img_id_ext'] = [str(i) + \" .png\" for i in train_tma['image_id']]\n",
    "train_no_tma['img_id_ext'] = [str(i) + \"_thumbnail.png\" for i in train_no_tma['image_id']]\n",
    "test['img_id_ext'] = [str(i) + \"_thumbnail.png\" for i in test['image_id']]"
   ]
  },
  {
   "cell_type": "code",
   "execution_count": null,
   "metadata": {},
   "outputs": [],
   "source": [
    "train_df = pd.concat([train_tma, train_no_tma])\n",
    "train_df.sort_index(ascending = True, inplace = True)\n",
    "train_df.head()"
   ]
  },
  {
   "cell_type": "code",
   "execution_count": null,
   "metadata": {},
   "outputs": [],
   "source": [
    "le = LabelEncoder()\n",
    "image_label = train_df['label']\n",
    "le.fit(image_label)\n",
    "train_df['label'] = le.transform(image_label)\n",
    "train_df.head()"
   ]
  },
  {
   "cell_type": "code",
   "execution_count": null,
   "metadata": {},
   "outputs": [],
   "source": [
    "import os\n",
    "\n",
    "class TrainDataset(Dataset):\n",
    "    def __init__(self, df, root_path, train_thumbnails, train_images, transform = None):\n",
    "        self.df = df\n",
    "        self.root_path = root_path\n",
    "        self.train_thumbnails = train_thumbnails\n",
    "        self.train_images = train_images\n",
    "        self.transform = transform\n",
    "        \n",
    "    def __len__(self):\n",
    "        return len(self.df)\n",
    "    \n",
    "    def __getitem__(self, idx):\n",
    "        img_name = self.df.iloc[idx, -1]\n",
    "        \n",
    "        if \"thumbnail\" in img_name:\n",
    "            img_path = os.path.join(root_path + train_thumbnails, img_name)\n",
    "        else:\n",
    "            img_path = os.path.join(root_path + traing_images, img_name)\n",
    "        \n",
    "        img = Image.open(img_path).convert('RGB')\n",
    "        \n",
    "        if self.transform:\n",
    "            img = self.transform(img)\n",
    "        \n",
    "        label = self.df.iloc[idx, 1]\n",
    "        label = torch.tensor(label)\n",
    "        return img, label\n",
    "\n",
    "norm_mean = [0.485, 0.456, 0.406]\n",
    "norm_std = [0.229, 0.224, 0.225]\n",
    "\n",
    "train_transform = transforms.Compose([\n",
    "    transforms.Resize((224, 224)), \n",
    "    transforms.CenterCrop(224), \n",
    "    transforms.RandomHorizontalFlip(p = 0.5), \n",
    "    transforms.RandomVerticalFlip(p = 0.5),\n",
    "    transforms.ToTensor(),\n",
    "    transforms.Normalize(norm_mean, norm_std),\n",
    "])\n",
    "\n",
    "valid_transform = transforms.Compose([\n",
    "    transforms.Resize((224, 224)),\n",
    "    transforms.ToTensor(),\n",
    "    transforms.Normalize(norm_mean, norm_std),\n",
    "])\n",
    "\n",
    "root_path = \"/kaggle/input/UBC-OCEAN/\"\n",
    "train_thumbnails = \"train_thumbnails/\"\n",
    "train_images = \"train_images/\"\n",
    "test_thumbnails = \"test_thumbnails/\"\n",
    "test_images = \"test_images/\"\n",
    "\n",
    "dataset = TrainDataset(df = train_df, root_path = root_path, train_thumbnails = train_thumbnails, train_images = train_images, transform = train_transform)\n",
    "\n",
    "train_ratio = 0.8\n",
    "valid_ratio = 0.2\n",
    "\n",
    "train_size = int(train_ratio * len(train_df))\n",
    "valid_size = len(train_df) - train_size\n",
    "\n",
    "dataset_train, dataset_valid = random_split(dataset, [train_size, valid_size])\n",
    "\n",
    "train_dataloader = DataLoader(dataset_train, batch_size = 8, shuffle = False, num_workers = 5)\n",
    "valid_dataloader = DataLoader(dataset_train, batch_size = 8, shuffle = False, num_workers = 5)\n",
    "\n",
    "dataiter = iter(train_dataloader)\n",
    "images = next(dataiter)\n",
    "images[0].shape"
   ]
  }
 ],
 "metadata": {
  "language_info": {
   "name": "python"
  },
  "orig_nbformat": 4
 },
 "nbformat": 4,
 "nbformat_minor": 2
}
