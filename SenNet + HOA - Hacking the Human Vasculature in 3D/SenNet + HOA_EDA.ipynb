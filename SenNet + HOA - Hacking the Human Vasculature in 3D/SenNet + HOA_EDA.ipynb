{
 "cells": [
  {
   "cell_type": "markdown",
   "metadata": {},
   "source": [
    "# Importing Libraries"
   ]
  },
  {
   "cell_type": "code",
   "execution_count": null,
   "metadata": {},
   "outputs": [],
   "source": [
    "import torch\n",
    "from torch.utils.data import Dataset\n",
    "from torchvision import transforms\n",
    "import tifffile as tiff\n",
    "import cv2\n",
    "import torch.nn as nn\n",
    "import albumentations as A\n",
    "import numpy as np\n",
    "import os\n",
    "import time\n",
    "import torch.nn.functional as F\n",
    "from PIL import Image\n",
    "import matplotlib.pyplot as plt\n",
    "from sklearn.model_selection import train_test_split\n",
    "from torch.utils.data import DataLoader"
   ]
  },
  {
   "cell_type": "code",
   "execution_count": null,
   "metadata": {},
   "outputs": [],
   "source": [
    "!nvidia-smi"
   ]
  },
  {
   "cell_type": "markdown",
   "metadata": {},
   "source": [
    "# Sample Original Image & Label"
   ]
  },
  {
   "cell_type": "code",
   "execution_count": null,
   "metadata": {},
   "outputs": [],
   "source": [
    "base_path = '/kaggle/input/blood-vessel-segmentation/train'\n",
    "dataset = 'kidney_1_dense'\n",
    "\n",
    "images_path = os.path.join(base_path, dataset, 'images')\n",
    "labels_path = os.path.join(base_path, dataset, 'labels')\n",
    "\n",
    "image_files = sorted([os.path.join(images_path, f) for f in os.listdir(images_path) if f.endswith('.tif')])\n",
    "label_files = sorted([os.path.join(labels_path, f) for f in os.listdir(labels_path) if f.endswith('.tif')])\n",
    "\n",
    "def show_images(images, titles = None, cmap = 'gray'):\n",
    "    n = len(images)\n",
    "    fig, axes = plt.subplots(1, n, figsize = (20, 10))\n",
    "    if not isinstance(axes, np.ndarray):\n",
    "        axes = [axes]\n",
    "    for idx, ax in enumerate(axes):\n",
    "        ax.imshow(images[idx], cmap = cmap)\n",
    "        if titles:\n",
    "            ax.set_title(titles[idx])\n",
    "        ax.axis('off')\n",
    "    plt.tight_layout()\n",
    "    plt.show()\n",
    "\n",
    "first_image = tiff.imread(image_files[981])\n",
    "first_label = tiff.imread(label_files[981])\n",
    "\n",
    "show_images([first_image, first_label], titles = ['First Image', 'First Label'])"
   ]
  }
 ],
 "metadata": {
  "language_info": {
   "name": "python"
  }
 },
 "nbformat": 4,
 "nbformat_minor": 2
}
